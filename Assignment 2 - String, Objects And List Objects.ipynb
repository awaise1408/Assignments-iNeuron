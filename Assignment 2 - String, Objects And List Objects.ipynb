{
 "cells": [
  {
   "cell_type": "markdown",
   "id": "990b8722",
   "metadata": {},
   "source": [
    "# String, Objects And List Objects\n",
    "## Assignment 2"
   ]
  },
  {
   "cell_type": "markdown",
   "id": "110872d2",
   "metadata": {},
   "source": [
    "### Question 1"
   ]
  },
  {
   "cell_type": "code",
   "execution_count": 8,
   "id": "4f3ea627",
   "metadata": {},
   "outputs": [
    {
     "name": "stdout",
     "output_type": "stream",
     "text": [
      "*\n",
      "**\n",
      "***\n",
      "****\n",
      "*****\n",
      "****\n",
      "***\n",
      "**\n",
      "*\n",
      "\n"
     ]
    }
   ],
   "source": [
    "n=5\n",
    "for i in range (n):\n",
    "    for j in range (i+1):\n",
    "        print (\"*\" , end = \"\")\n",
    "    print (\"\")\n",
    "for i in range (n):\n",
    "    for j in range (4-i):\n",
    "        print (\"*\" , end = \"\")\n",
    "    print (\"\")"
   ]
  },
  {
   "cell_type": "markdown",
   "id": "8682145c",
   "metadata": {},
   "source": [
    "### Question 2"
   ]
  },
  {
   "cell_type": "code",
   "execution_count": 19,
   "id": "03b4d20f",
   "metadata": {},
   "outputs": [
    {
     "name": "stdout",
     "output_type": "stream",
     "text": [
      "Enter a wordzikra\n"
     ]
    },
    {
     "data": {
      "text/plain": [
       "'arkiz'"
      ]
     },
     "execution_count": 19,
     "metadata": {},
     "output_type": "execute_result"
    }
   ],
   "source": [
    "a= str(input(\"Enter a word\"))\n",
    "a[::-1]"
   ]
  },
  {
   "cell_type": "code",
   "execution_count": null,
   "id": "f942dbb3",
   "metadata": {},
   "outputs": [],
   "source": []
  }
 ],
 "metadata": {
  "kernelspec": {
   "display_name": "Python 3",
   "language": "python",
   "name": "python3"
  },
  "language_info": {
   "codemirror_mode": {
    "name": "ipython",
    "version": 3
   },
   "file_extension": ".py",
   "mimetype": "text/x-python",
   "name": "python",
   "nbconvert_exporter": "python",
   "pygments_lexer": "ipython3",
   "version": "3.8.8"
  }
 },
 "nbformat": 4,
 "nbformat_minor": 5
}
